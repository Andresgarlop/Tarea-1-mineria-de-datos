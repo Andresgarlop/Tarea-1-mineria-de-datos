{
 "cells": [
  {
   "cell_type": "markdown",
   "id": "1732f20b-beae-4326-bc29-f8e7afae9460",
   "metadata": {},
   "source": [
    "# TAREA 1 "
   ]
  },
  {
   "cell_type": "markdown",
   "id": "e903189e-d7fa-4722-8d4c-31e358e262ed",
   "metadata": {},
   "source": [
    "<h1 style=\"color:orange;\"> <strong> <center>Minería de datos</center></strong> </h1>\n",
    "<h4><center><strong>Andrés Stiven García López</strong></center></h4>"
   ]
  },
  {
   "cell_type": "markdown",
   "id": "8c30a9ce-dace-4548-9278-2194ed8afb76",
   "metadata": {},
   "source": [
    "## Crreacion de ambiente \n",
    "\n",
    "<img src=\"m1.png\">"
   ]
  },
  {
   "cell_type": "markdown",
   "id": "c9d26ed5-f35c-4236-aac9-6391287ab874",
   "metadata": {},
   "source": [
    "## Instalacion del paquete jupyter Lab\n",
    "<img src=\"m2.png\">\n"
   ]
  },
  {
   "cell_type": "markdown",
   "id": "90347910-2058-4b4f-92ca-f47f1cb41b7a",
   "metadata": {},
   "source": [
    "## Instalacion del paquete Sklearn\n",
    "<img src=\"m3.png\">"
   ]
  },
  {
   "cell_type": "markdown",
   "id": "627f8e95-3336-40fa-8227-883f5063c0fc",
   "metadata": {},
   "source": [
    "## Utilizacion de diferentes lenguajes de marcado.\n",
    "Para mostrar esto se escribira alguna funcion en formato latex.\n",
    "\n",
    "<h4 style=\"color:red;\"> <strong> <center>Funcion escrita en formato latex:</center></strong> </h4>\n",
    "$$F(x)=\\frac{1}{\\sqrt{2\\pi}\\sigma}e^{\\frac{-(x-\\mu)^2}{2\\sigma^2\n",
    "}}$$"
   ]
  },
  {
   "cell_type": "markdown",
   "id": "8fdb1262-2e7a-4159-9cb6-49d7a7ef3579",
   "metadata": {},
   "source": [
    "<h2>Enlaces para imágen y video</h2>\n",
    "\n",
    "[Enlace de la imagen](https://www.google.com/search?q=imagen+gatos&rlz=1C1ALOY_esCO954CO954&source=lnms&tbm=isch&sa=X&ved=2ahUKEwjQtsynqMn5AhW5TDABHXv2A5YQ_AUoAXoECAEQAw&biw=1280&bih=544&dpr=1.5#imgrc=ZOKAEVKnMDeHYM)\n",
    "\n",
    "[Enlace del video ](https://www.youtube.com/watch?v=xm3YgoEiEDc&ab_channel=10Hours)"
   ]
  }
 ],
 "metadata": {
  "kernelspec": {
   "display_name": "Python 3",
   "language": "python",
   "name": "python3"
  },
  "language_info": {
   "codemirror_mode": {
    "name": "ipython",
    "version": 3
   },
   "file_extension": ".py",
   "mimetype": "text/x-python",
   "name": "python",
   "nbconvert_exporter": "python",
   "pygments_lexer": "ipython3",
   "version": "3.8.8"
  }
 },
 "nbformat": 4,
 "nbformat_minor": 5
}
